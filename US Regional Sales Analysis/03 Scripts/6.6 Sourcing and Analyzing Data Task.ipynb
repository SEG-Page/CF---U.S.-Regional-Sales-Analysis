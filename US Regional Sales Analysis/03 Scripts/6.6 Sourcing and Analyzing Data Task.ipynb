{
 "cells": [
  {
   "cell_type": "markdown",
   "id": "ba0273f3",
   "metadata": {},
   "source": [
    "# 6.6 Sourcing & Analyzing Time-Series Data"
   ]
  },
  {
   "cell_type": "markdown",
   "id": "35bf3b18",
   "metadata": {},
   "source": [
    "### This script contains the following:\n",
    "\n",
    "#### 1. Importing your libraries and data\n",
    "#### 2. Subsetting, wrangling, and cleaning time-series data\n",
    "#### 3. Time series analysis: decomposition\n",
    "#### 4. Testing for stationarity\n",
    "#### 5. Stationarizing the US Regional Sales Data"
   ]
  },
  {
   "cell_type": "markdown",
   "id": "026de344",
   "metadata": {},
   "source": [
    "### 1. Importing your libraries and data"
   ]
  },
  {
   "cell_type": "code",
   "execution_count": 1,
   "id": "8505edaf",
   "metadata": {},
   "outputs": [],
   "source": [
    "import quandl\n",
    "import pandas as pd\n",
    "import numpy as np\n",
    "import seaborn as sns\n",
    "import matplotlib\n",
    "import matplotlib.pyplot as plt\n",
    "import statsmodels.api as sm \n",
    "import os\n",
    "import warnings\n",
    "\n",
    "warnings.filterwarnings(\"ignore\")\n",
    "\n",
    "plt.style.use('fivethirtyeight')"
   ]
  },
  {
   "cell_type": "code",
   "execution_count": 2,
   "id": "7125ad96",
   "metadata": {},
   "outputs": [],
   "source": [
    "# Create Path to create folder into a string\n",
    "path = r'C:\\Users\\E054746\\OneDrive - RSM\\Data Analytics\\CareerFoundry\\Data Immersion\\Achievement 6\\US Regional Sales Analysis'"
   ]
  },
  {
   "cell_type": "code",
   "execution_count": 3,
   "id": "1b638a7f",
   "metadata": {},
   "outputs": [],
   "source": [
    "# Import US Regional Sales Data (scrubbed version)\n",
    "df = pd.read_pickle(os.path.join(path, '02 Data', 'Prepared Data', 'us_regional_sales_clean_020222.pkl'))"
   ]
  },
  {
   "cell_type": "code",
   "execution_count": 15,
   "id": "0a945910",
   "metadata": {},
   "outputs": [
    {
     "data": {
      "text/html": [
       "<div>\n",
       "<style scoped>\n",
       "    .dataframe tbody tr th:only-of-type {\n",
       "        vertical-align: middle;\n",
       "    }\n",
       "\n",
       "    .dataframe tbody tr th {\n",
       "        vertical-align: top;\n",
       "    }\n",
       "\n",
       "    .dataframe thead th {\n",
       "        text-align: right;\n",
       "    }\n",
       "</style>\n",
       "<table border=\"1\" class=\"dataframe\">\n",
       "  <thead>\n",
       "    <tr style=\"text-align: right;\">\n",
       "      <th></th>\n",
       "      <th>Order_Number</th>\n",
       "      <th>Sales_Channel</th>\n",
       "      <th>Warehouse_Code</th>\n",
       "      <th>Procured_Date</th>\n",
       "      <th>Order_Date</th>\n",
       "      <th>Months_In_Stock</th>\n",
       "      <th>Ship_Date</th>\n",
       "      <th>Days_To_Process_Order</th>\n",
       "      <th>Delivery_Date</th>\n",
       "      <th>Days_In_Transit</th>\n",
       "      <th>SalesTeam_ID</th>\n",
       "      <th>Customer_ID</th>\n",
       "      <th>Store_ID</th>\n",
       "      <th>Product_ID</th>\n",
       "      <th>Order_Quantity</th>\n",
       "      <th>Discount_Applied</th>\n",
       "      <th>Unit_Price</th>\n",
       "      <th>Unit_Cost</th>\n",
       "      <th>Discounted_Price_PU</th>\n",
       "      <th>Total_Sale</th>\n",
       "      <th>Total Cost</th>\n",
       "      <th>Total Profit</th>\n",
       "      <th>Customer_Names</th>\n",
       "      <th>Product_Name</th>\n",
       "      <th>City_Name</th>\n",
       "      <th>County</th>\n",
       "      <th>State_Code</th>\n",
       "      <th>State</th>\n",
       "      <th>Type</th>\n",
       "      <th>Latitude</th>\n",
       "      <th>Longitude</th>\n",
       "      <th>Population</th>\n",
       "      <th>Household_Income</th>\n",
       "      <th>Median_Income</th>\n",
       "      <th>Time_Zone</th>\n",
       "      <th>Region</th>\n",
       "      <th>Sales_Team</th>\n",
       "    </tr>\n",
       "  </thead>\n",
       "  <tbody>\n",
       "    <tr>\n",
       "      <th>0</th>\n",
       "      <td>SO - 000101</td>\n",
       "      <td>In-Store</td>\n",
       "      <td>WARE-UHY1004</td>\n",
       "      <td>2017-12-31</td>\n",
       "      <td>2018-05-31</td>\n",
       "      <td>5</td>\n",
       "      <td>2018-06-14</td>\n",
       "      <td>14</td>\n",
       "      <td>2018-06-19</td>\n",
       "      <td>5</td>\n",
       "      <td>6</td>\n",
       "      <td>15</td>\n",
       "      <td>259</td>\n",
       "      <td>12</td>\n",
       "      <td>5</td>\n",
       "      <td>0.075</td>\n",
       "      <td>1963.1</td>\n",
       "      <td>1001.181</td>\n",
       "      <td>1815.8675</td>\n",
       "      <td>9079.3375</td>\n",
       "      <td>5005.905</td>\n",
       "      <td>4073.4325</td>\n",
       "      <td>Rochester Ltd</td>\n",
       "      <td>Dining Furniture</td>\n",
       "      <td>Babylon (Town)</td>\n",
       "      <td>Suffolk County</td>\n",
       "      <td>NY</td>\n",
       "      <td>New York</td>\n",
       "      <td>Town</td>\n",
       "      <td>40.64092</td>\n",
       "      <td>-73.31669</td>\n",
       "      <td>213776</td>\n",
       "      <td>68789</td>\n",
       "      <td>80327</td>\n",
       "      <td>America/New York</td>\n",
       "      <td>Northeast</td>\n",
       "      <td>Joshua Bennett</td>\n",
       "    </tr>\n",
       "    <tr>\n",
       "      <th>1</th>\n",
       "      <td>SO - 0005035</td>\n",
       "      <td>In-Store</td>\n",
       "      <td>WARE-UHY1004</td>\n",
       "      <td>2019-08-23</td>\n",
       "      <td>2020-01-08</td>\n",
       "      <td>4</td>\n",
       "      <td>2020-01-15</td>\n",
       "      <td>7</td>\n",
       "      <td>2020-01-21</td>\n",
       "      <td>6</td>\n",
       "      <td>6</td>\n",
       "      <td>47</td>\n",
       "      <td>259</td>\n",
       "      <td>1</td>\n",
       "      <td>3</td>\n",
       "      <td>0.150</td>\n",
       "      <td>1755.4</td>\n",
       "      <td>1298.996</td>\n",
       "      <td>1492.0900</td>\n",
       "      <td>4476.2700</td>\n",
       "      <td>3896.988</td>\n",
       "      <td>579.2820</td>\n",
       "      <td>Niconovum Corp</td>\n",
       "      <td>Cookware</td>\n",
       "      <td>Babylon (Town)</td>\n",
       "      <td>Suffolk County</td>\n",
       "      <td>NY</td>\n",
       "      <td>New York</td>\n",
       "      <td>Town</td>\n",
       "      <td>40.64092</td>\n",
       "      <td>-73.31669</td>\n",
       "      <td>213776</td>\n",
       "      <td>68789</td>\n",
       "      <td>80327</td>\n",
       "      <td>America/New York</td>\n",
       "      <td>Northeast</td>\n",
       "      <td>Joshua Bennett</td>\n",
       "    </tr>\n",
       "    <tr>\n",
       "      <th>2</th>\n",
       "      <td>SO - 0006409</td>\n",
       "      <td>In-Store</td>\n",
       "      <td>WARE-UHY1004</td>\n",
       "      <td>2020-03-10</td>\n",
       "      <td>2020-06-17</td>\n",
       "      <td>3</td>\n",
       "      <td>2020-07-03</td>\n",
       "      <td>16</td>\n",
       "      <td>2020-07-12</td>\n",
       "      <td>9</td>\n",
       "      <td>6</td>\n",
       "      <td>41</td>\n",
       "      <td>259</td>\n",
       "      <td>16</td>\n",
       "      <td>5</td>\n",
       "      <td>0.075</td>\n",
       "      <td>3544.3</td>\n",
       "      <td>2020.251</td>\n",
       "      <td>3278.4775</td>\n",
       "      <td>16392.3875</td>\n",
       "      <td>10101.255</td>\n",
       "      <td>6291.1325</td>\n",
       "      <td>Weimei Corp</td>\n",
       "      <td>Stemware</td>\n",
       "      <td>Babylon (Town)</td>\n",
       "      <td>Suffolk County</td>\n",
       "      <td>NY</td>\n",
       "      <td>New York</td>\n",
       "      <td>Town</td>\n",
       "      <td>40.64092</td>\n",
       "      <td>-73.31669</td>\n",
       "      <td>213776</td>\n",
       "      <td>68789</td>\n",
       "      <td>80327</td>\n",
       "      <td>America/New York</td>\n",
       "      <td>Northeast</td>\n",
       "      <td>Joshua Bennett</td>\n",
       "    </tr>\n",
       "    <tr>\n",
       "      <th>3</th>\n",
       "      <td>SO - 0006713</td>\n",
       "      <td>In-Store</td>\n",
       "      <td>WARE-UHY1004</td>\n",
       "      <td>2020-03-10</td>\n",
       "      <td>2020-07-21</td>\n",
       "      <td>4</td>\n",
       "      <td>2020-08-15</td>\n",
       "      <td>25</td>\n",
       "      <td>2020-08-16</td>\n",
       "      <td>1</td>\n",
       "      <td>6</td>\n",
       "      <td>48</td>\n",
       "      <td>259</td>\n",
       "      <td>6</td>\n",
       "      <td>3</td>\n",
       "      <td>0.075</td>\n",
       "      <td>2492.4</td>\n",
       "      <td>1246.200</td>\n",
       "      <td>2305.4700</td>\n",
       "      <td>6916.4100</td>\n",
       "      <td>3738.600</td>\n",
       "      <td>3177.8100</td>\n",
       "      <td>Fenwal, Corp</td>\n",
       "      <td>Computers</td>\n",
       "      <td>Babylon (Town)</td>\n",
       "      <td>Suffolk County</td>\n",
       "      <td>NY</td>\n",
       "      <td>New York</td>\n",
       "      <td>Town</td>\n",
       "      <td>40.64092</td>\n",
       "      <td>-73.31669</td>\n",
       "      <td>213776</td>\n",
       "      <td>68789</td>\n",
       "      <td>80327</td>\n",
       "      <td>America/New York</td>\n",
       "      <td>Northeast</td>\n",
       "      <td>Joshua Bennett</td>\n",
       "    </tr>\n",
       "    <tr>\n",
       "      <th>4</th>\n",
       "      <td>SO - 0007028</td>\n",
       "      <td>In-Store</td>\n",
       "      <td>WARE-NMK1003</td>\n",
       "      <td>2020-06-18</td>\n",
       "      <td>2020-08-29</td>\n",
       "      <td>2</td>\n",
       "      <td>2020-09-11</td>\n",
       "      <td>13</td>\n",
       "      <td>2020-09-14</td>\n",
       "      <td>3</td>\n",
       "      <td>6</td>\n",
       "      <td>44</td>\n",
       "      <td>112</td>\n",
       "      <td>14</td>\n",
       "      <td>3</td>\n",
       "      <td>0.200</td>\n",
       "      <td>3993.2</td>\n",
       "      <td>3034.832</td>\n",
       "      <td>3194.5600</td>\n",
       "      <td>9583.6800</td>\n",
       "      <td>9104.496</td>\n",
       "      <td>479.1840</td>\n",
       "      <td>Winthrop</td>\n",
       "      <td>Mirrors</td>\n",
       "      <td>Waterbury (Town)</td>\n",
       "      <td>New Haven County</td>\n",
       "      <td>CT</td>\n",
       "      <td>Connecticut</td>\n",
       "      <td>Town</td>\n",
       "      <td>41.55850</td>\n",
       "      <td>-73.03668</td>\n",
       "      <td>108802</td>\n",
       "      <td>40213</td>\n",
       "      <td>40467</td>\n",
       "      <td>America/New York</td>\n",
       "      <td>Northeast</td>\n",
       "      <td>Joshua Bennett</td>\n",
       "    </tr>\n",
       "  </tbody>\n",
       "</table>\n",
       "</div>"
      ],
      "text/plain": [
       "   Order_Number Sales_Channel Warehouse_Code Procured_Date Order_Date  \\\n",
       "0   SO - 000101      In-Store   WARE-UHY1004    2017-12-31 2018-05-31   \n",
       "1  SO - 0005035      In-Store   WARE-UHY1004    2019-08-23 2020-01-08   \n",
       "2  SO - 0006409      In-Store   WARE-UHY1004    2020-03-10 2020-06-17   \n",
       "3  SO - 0006713      In-Store   WARE-UHY1004    2020-03-10 2020-07-21   \n",
       "4  SO - 0007028      In-Store   WARE-NMK1003    2020-06-18 2020-08-29   \n",
       "\n",
       "   Months_In_Stock  Ship_Date  Days_To_Process_Order Delivery_Date  \\\n",
       "0                5 2018-06-14                     14    2018-06-19   \n",
       "1                4 2020-01-15                      7    2020-01-21   \n",
       "2                3 2020-07-03                     16    2020-07-12   \n",
       "3                4 2020-08-15                     25    2020-08-16   \n",
       "4                2 2020-09-11                     13    2020-09-14   \n",
       "\n",
       "   Days_In_Transit  SalesTeam_ID  Customer_ID  Store_ID  Product_ID  \\\n",
       "0                5             6           15       259          12   \n",
       "1                6             6           47       259           1   \n",
       "2                9             6           41       259          16   \n",
       "3                1             6           48       259           6   \n",
       "4                3             6           44       112          14   \n",
       "\n",
       "   Order_Quantity  Discount_Applied  Unit_Price  Unit_Cost  \\\n",
       "0               5             0.075      1963.1   1001.181   \n",
       "1               3             0.150      1755.4   1298.996   \n",
       "2               5             0.075      3544.3   2020.251   \n",
       "3               3             0.075      2492.4   1246.200   \n",
       "4               3             0.200      3993.2   3034.832   \n",
       "\n",
       "   Discounted_Price_PU  Total_Sale  Total Cost  Total Profit  Customer_Names  \\\n",
       "0            1815.8675   9079.3375    5005.905     4073.4325   Rochester Ltd   \n",
       "1            1492.0900   4476.2700    3896.988      579.2820  Niconovum Corp   \n",
       "2            3278.4775  16392.3875   10101.255     6291.1325     Weimei Corp   \n",
       "3            2305.4700   6916.4100    3738.600     3177.8100    Fenwal, Corp   \n",
       "4            3194.5600   9583.6800    9104.496      479.1840       Winthrop    \n",
       "\n",
       "       Product_Name         City_Name            County State_Code  \\\n",
       "0  Dining Furniture    Babylon (Town)    Suffolk County         NY   \n",
       "1          Cookware    Babylon (Town)    Suffolk County         NY   \n",
       "2          Stemware    Babylon (Town)    Suffolk County         NY   \n",
       "3         Computers    Babylon (Town)    Suffolk County         NY   \n",
       "4           Mirrors  Waterbury (Town)  New Haven County         CT   \n",
       "\n",
       "         State  Type  Latitude  Longitude  Population  Household_Income  \\\n",
       "0     New York  Town  40.64092  -73.31669      213776             68789   \n",
       "1     New York  Town  40.64092  -73.31669      213776             68789   \n",
       "2     New York  Town  40.64092  -73.31669      213776             68789   \n",
       "3     New York  Town  40.64092  -73.31669      213776             68789   \n",
       "4  Connecticut  Town  41.55850  -73.03668      108802             40213   \n",
       "\n",
       "   Median_Income         Time_Zone     Region      Sales_Team  \n",
       "0          80327  America/New York  Northeast  Joshua Bennett  \n",
       "1          80327  America/New York  Northeast  Joshua Bennett  \n",
       "2          80327  America/New York  Northeast  Joshua Bennett  \n",
       "3          80327  America/New York  Northeast  Joshua Bennett  \n",
       "4          40467  America/New York  Northeast  Joshua Bennett  "
      ]
     },
     "execution_count": 15,
     "metadata": {},
     "output_type": "execute_result"
    }
   ],
   "source": [
    "pd.set_option('display.max_columns', None)\n",
    "df.head(5)"
   ]
  },
  {
   "cell_type": "code",
   "execution_count": 16,
   "id": "47a23bab",
   "metadata": {},
   "outputs": [
    {
     "data": {
      "text/plain": [
       "(7991, 37)"
      ]
     },
     "execution_count": 16,
     "metadata": {},
     "output_type": "execute_result"
    }
   ],
   "source": [
    "df.shape"
   ]
  },
  {
   "cell_type": "code",
   "execution_count": 17,
   "id": "a12b98d5",
   "metadata": {},
   "outputs": [
    {
     "data": {
      "text/plain": [
       "Index(['Order_Number', 'Sales_Channel', 'Warehouse_Code', 'Procured_Date',\n",
       "       'Order_Date', 'Months_In_Stock', 'Ship_Date', 'Days_To_Process_Order',\n",
       "       'Delivery_Date', 'Days_In_Transit', 'SalesTeam_ID', 'Customer_ID',\n",
       "       'Store_ID', 'Product_ID', 'Order_Quantity', 'Discount_Applied',\n",
       "       'Unit_Price', 'Unit_Cost', 'Discounted_Price_PU', 'Total_Sale',\n",
       "       'Total Cost', 'Total Profit', 'Customer_Names', 'Product_Name',\n",
       "       'City_Name', 'County', 'State_Code', 'State', 'Type', 'Latitude',\n",
       "       'Longitude', 'Population', 'Household_Income', 'Median_Income',\n",
       "       'Time_Zone', 'Region', 'Sales_Team'],\n",
       "      dtype='object')"
      ]
     },
     "execution_count": 17,
     "metadata": {},
     "output_type": "execute_result"
    }
   ],
   "source": [
    "df.columns"
   ]
  },
  {
   "cell_type": "code",
   "execution_count": 18,
   "id": "9fff1671",
   "metadata": {},
   "outputs": [],
   "source": [
    "#For this time-series analysis I will use the Region category and will start with the West since that region has the highest sales. \n",
    "west = df.loc[df['Region'] == 'West']"
   ]
  },
  {
   "cell_type": "code",
   "execution_count": 19,
   "id": "ba281c6f",
   "metadata": {},
   "outputs": [
    {
     "data": {
      "text/html": [
       "<div>\n",
       "<style scoped>\n",
       "    .dataframe tbody tr th:only-of-type {\n",
       "        vertical-align: middle;\n",
       "    }\n",
       "\n",
       "    .dataframe tbody tr th {\n",
       "        vertical-align: top;\n",
       "    }\n",
       "\n",
       "    .dataframe thead th {\n",
       "        text-align: right;\n",
       "    }\n",
       "</style>\n",
       "<table border=\"1\" class=\"dataframe\">\n",
       "  <thead>\n",
       "    <tr style=\"text-align: right;\">\n",
       "      <th></th>\n",
       "      <th>Order_Number</th>\n",
       "      <th>Sales_Channel</th>\n",
       "      <th>Warehouse_Code</th>\n",
       "      <th>Procured_Date</th>\n",
       "      <th>Order_Date</th>\n",
       "      <th>Months_In_Stock</th>\n",
       "      <th>Ship_Date</th>\n",
       "      <th>Days_To_Process_Order</th>\n",
       "      <th>Delivery_Date</th>\n",
       "      <th>Days_In_Transit</th>\n",
       "      <th>SalesTeam_ID</th>\n",
       "      <th>Customer_ID</th>\n",
       "      <th>Store_ID</th>\n",
       "      <th>Product_ID</th>\n",
       "      <th>Order_Quantity</th>\n",
       "      <th>Discount_Applied</th>\n",
       "      <th>Unit_Price</th>\n",
       "      <th>Unit_Cost</th>\n",
       "      <th>Discounted_Price_PU</th>\n",
       "      <th>Total_Sale</th>\n",
       "      <th>Total Cost</th>\n",
       "      <th>Total Profit</th>\n",
       "      <th>Customer_Names</th>\n",
       "      <th>Product_Name</th>\n",
       "      <th>City_Name</th>\n",
       "      <th>County</th>\n",
       "      <th>State_Code</th>\n",
       "      <th>State</th>\n",
       "      <th>Type</th>\n",
       "      <th>Latitude</th>\n",
       "      <th>Longitude</th>\n",
       "      <th>Population</th>\n",
       "      <th>Household_Income</th>\n",
       "      <th>Median_Income</th>\n",
       "      <th>Time_Zone</th>\n",
       "      <th>Region</th>\n",
       "      <th>Sales_Team</th>\n",
       "    </tr>\n",
       "  </thead>\n",
       "  <tbody>\n",
       "    <tr>\n",
       "      <th>12</th>\n",
       "      <td>SO - 000558</td>\n",
       "      <td>In-Store</td>\n",
       "      <td>WARE-NMK1003</td>\n",
       "      <td>2018-04-10</td>\n",
       "      <td>2018-07-23</td>\n",
       "      <td>3</td>\n",
       "      <td>2018-08-01</td>\n",
       "      <td>9</td>\n",
       "      <td>2018-08-07</td>\n",
       "      <td>6</td>\n",
       "      <td>6</td>\n",
       "      <td>35</td>\n",
       "      <td>95</td>\n",
       "      <td>8</td>\n",
       "      <td>8</td>\n",
       "      <td>0.200</td>\n",
       "      <td>2298.1</td>\n",
       "      <td>1539.727</td>\n",
       "      <td>1838.4800</td>\n",
       "      <td>14707.840</td>\n",
       "      <td>12317.816</td>\n",
       "      <td>2390.024</td>\n",
       "      <td>Amylin Group</td>\n",
       "      <td>Cocktail Glasses</td>\n",
       "      <td>Denver</td>\n",
       "      <td>Denver County</td>\n",
       "      <td>CO</td>\n",
       "      <td>Colorado</td>\n",
       "      <td>City</td>\n",
       "      <td>39.73915</td>\n",
       "      <td>-104.98470</td>\n",
       "      <td>682545</td>\n",
       "      <td>275795</td>\n",
       "      <td>53637</td>\n",
       "      <td>America/Denver</td>\n",
       "      <td>West</td>\n",
       "      <td>Joshua Bennett</td>\n",
       "    </tr>\n",
       "    <tr>\n",
       "      <th>15</th>\n",
       "      <td>SO - 0004131</td>\n",
       "      <td>In-Store</td>\n",
       "      <td>WARE-UHY1004</td>\n",
       "      <td>2019-05-15</td>\n",
       "      <td>2019-09-20</td>\n",
       "      <td>4</td>\n",
       "      <td>2019-10-15</td>\n",
       "      <td>25</td>\n",
       "      <td>2019-10-17</td>\n",
       "      <td>2</td>\n",
       "      <td>6</td>\n",
       "      <td>50</td>\n",
       "      <td>255</td>\n",
       "      <td>31</td>\n",
       "      <td>6</td>\n",
       "      <td>0.150</td>\n",
       "      <td>1085.4</td>\n",
       "      <td>868.320</td>\n",
       "      <td>922.5900</td>\n",
       "      <td>5535.540</td>\n",
       "      <td>5209.920</td>\n",
       "      <td>325.620</td>\n",
       "      <td>Sundial</td>\n",
       "      <td>Candleholders</td>\n",
       "      <td>Reno</td>\n",
       "      <td>Washoe County</td>\n",
       "      <td>NV</td>\n",
       "      <td>Nevada</td>\n",
       "      <td>City</td>\n",
       "      <td>39.52963</td>\n",
       "      <td>-119.81380</td>\n",
       "      <td>241445</td>\n",
       "      <td>92283</td>\n",
       "      <td>47012</td>\n",
       "      <td>America/Los Angeles</td>\n",
       "      <td>West</td>\n",
       "      <td>Joshua Bennett</td>\n",
       "    </tr>\n",
       "    <tr>\n",
       "      <th>16</th>\n",
       "      <td>SO - 0002401</td>\n",
       "      <td>In-Store</td>\n",
       "      <td>WARE-NBV1002</td>\n",
       "      <td>2018-10-27</td>\n",
       "      <td>2019-02-21</td>\n",
       "      <td>3</td>\n",
       "      <td>2019-03-08</td>\n",
       "      <td>15</td>\n",
       "      <td>2019-03-17</td>\n",
       "      <td>9</td>\n",
       "      <td>6</td>\n",
       "      <td>46</td>\n",
       "      <td>77</td>\n",
       "      <td>6</td>\n",
       "      <td>6</td>\n",
       "      <td>0.075</td>\n",
       "      <td>5487.3</td>\n",
       "      <td>4060.602</td>\n",
       "      <td>5075.7525</td>\n",
       "      <td>30454.515</td>\n",
       "      <td>24363.612</td>\n",
       "      <td>6090.903</td>\n",
       "      <td>U.S. Ltd</td>\n",
       "      <td>Computers</td>\n",
       "      <td>Santa Maria</td>\n",
       "      <td>Santa Barbara County</td>\n",
       "      <td>CA</td>\n",
       "      <td>California</td>\n",
       "      <td>City</td>\n",
       "      <td>34.95303</td>\n",
       "      <td>-120.43572</td>\n",
       "      <td>105093</td>\n",
       "      <td>27365</td>\n",
       "      <td>50433</td>\n",
       "      <td>America/Los Angeles</td>\n",
       "      <td>West</td>\n",
       "      <td>Joshua Bennett</td>\n",
       "    </tr>\n",
       "    <tr>\n",
       "      <th>21</th>\n",
       "      <td>SO - 0001183</td>\n",
       "      <td>In-Store</td>\n",
       "      <td>WARE-XYS1001</td>\n",
       "      <td>2018-07-19</td>\n",
       "      <td>2018-10-05</td>\n",
       "      <td>2</td>\n",
       "      <td>2018-10-25</td>\n",
       "      <td>20</td>\n",
       "      <td>2018-11-03</td>\n",
       "      <td>9</td>\n",
       "      <td>6</td>\n",
       "      <td>45</td>\n",
       "      <td>17</td>\n",
       "      <td>40</td>\n",
       "      <td>8</td>\n",
       "      <td>0.075</td>\n",
       "      <td>3979.8</td>\n",
       "      <td>2865.456</td>\n",
       "      <td>3681.3150</td>\n",
       "      <td>29450.520</td>\n",
       "      <td>22923.648</td>\n",
       "      <td>6526.872</td>\n",
       "      <td>Nipro</td>\n",
       "      <td>Rugs</td>\n",
       "      <td>Antioch</td>\n",
       "      <td>Contra Costa County</td>\n",
       "      <td>CA</td>\n",
       "      <td>California</td>\n",
       "      <td>City</td>\n",
       "      <td>38.00492</td>\n",
       "      <td>-121.80579</td>\n",
       "      <td>110542</td>\n",
       "      <td>33718</td>\n",
       "      <td>64329</td>\n",
       "      <td>America/Los Angeles</td>\n",
       "      <td>West</td>\n",
       "      <td>Joshua Bennett</td>\n",
       "    </tr>\n",
       "    <tr>\n",
       "      <th>22</th>\n",
       "      <td>SO - 0002995</td>\n",
       "      <td>In-Store</td>\n",
       "      <td>WARE-XYS1001</td>\n",
       "      <td>2019-02-04</td>\n",
       "      <td>2019-05-05</td>\n",
       "      <td>3</td>\n",
       "      <td>2019-05-24</td>\n",
       "      <td>19</td>\n",
       "      <td>2019-05-27</td>\n",
       "      <td>3</td>\n",
       "      <td>6</td>\n",
       "      <td>16</td>\n",
       "      <td>17</td>\n",
       "      <td>32</td>\n",
       "      <td>1</td>\n",
       "      <td>0.100</td>\n",
       "      <td>1936.3</td>\n",
       "      <td>929.424</td>\n",
       "      <td>1742.6700</td>\n",
       "      <td>1742.670</td>\n",
       "      <td>929.424</td>\n",
       "      <td>813.246</td>\n",
       "      <td>3LAB, Ltd</td>\n",
       "      <td>Vases</td>\n",
       "      <td>Antioch</td>\n",
       "      <td>Contra Costa County</td>\n",
       "      <td>CA</td>\n",
       "      <td>California</td>\n",
       "      <td>City</td>\n",
       "      <td>38.00492</td>\n",
       "      <td>-121.80579</td>\n",
       "      <td>110542</td>\n",
       "      <td>33718</td>\n",
       "      <td>64329</td>\n",
       "      <td>America/Los Angeles</td>\n",
       "      <td>West</td>\n",
       "      <td>Joshua Bennett</td>\n",
       "    </tr>\n",
       "  </tbody>\n",
       "</table>\n",
       "</div>"
      ],
      "text/plain": [
       "    Order_Number Sales_Channel Warehouse_Code Procured_Date Order_Date  \\\n",
       "12   SO - 000558      In-Store   WARE-NMK1003    2018-04-10 2018-07-23   \n",
       "15  SO - 0004131      In-Store   WARE-UHY1004    2019-05-15 2019-09-20   \n",
       "16  SO - 0002401      In-Store   WARE-NBV1002    2018-10-27 2019-02-21   \n",
       "21  SO - 0001183      In-Store   WARE-XYS1001    2018-07-19 2018-10-05   \n",
       "22  SO - 0002995      In-Store   WARE-XYS1001    2019-02-04 2019-05-05   \n",
       "\n",
       "    Months_In_Stock  Ship_Date  Days_To_Process_Order Delivery_Date  \\\n",
       "12                3 2018-08-01                      9    2018-08-07   \n",
       "15                4 2019-10-15                     25    2019-10-17   \n",
       "16                3 2019-03-08                     15    2019-03-17   \n",
       "21                2 2018-10-25                     20    2018-11-03   \n",
       "22                3 2019-05-24                     19    2019-05-27   \n",
       "\n",
       "    Days_In_Transit  SalesTeam_ID  Customer_ID  Store_ID  Product_ID  \\\n",
       "12                6             6           35        95           8   \n",
       "15                2             6           50       255          31   \n",
       "16                9             6           46        77           6   \n",
       "21                9             6           45        17          40   \n",
       "22                3             6           16        17          32   \n",
       "\n",
       "    Order_Quantity  Discount_Applied  Unit_Price  Unit_Cost  \\\n",
       "12               8             0.200      2298.1   1539.727   \n",
       "15               6             0.150      1085.4    868.320   \n",
       "16               6             0.075      5487.3   4060.602   \n",
       "21               8             0.075      3979.8   2865.456   \n",
       "22               1             0.100      1936.3    929.424   \n",
       "\n",
       "    Discounted_Price_PU  Total_Sale  Total Cost  Total Profit Customer_Names  \\\n",
       "12            1838.4800   14707.840   12317.816      2390.024   Amylin Group   \n",
       "15             922.5900    5535.540    5209.920       325.620       Sundial    \n",
       "16            5075.7525   30454.515   24363.612      6090.903       U.S. Ltd   \n",
       "21            3681.3150   29450.520   22923.648      6526.872         Nipro    \n",
       "22            1742.6700    1742.670     929.424       813.246      3LAB, Ltd   \n",
       "\n",
       "        Product_Name    City_Name                County State_Code  \\\n",
       "12  Cocktail Glasses       Denver         Denver County         CO   \n",
       "15     Candleholders         Reno         Washoe County         NV   \n",
       "16         Computers  Santa Maria  Santa Barbara County         CA   \n",
       "21              Rugs      Antioch   Contra Costa County         CA   \n",
       "22             Vases      Antioch   Contra Costa County         CA   \n",
       "\n",
       "         State  Type  Latitude  Longitude  Population  Household_Income  \\\n",
       "12    Colorado  City  39.73915 -104.98470      682545            275795   \n",
       "15      Nevada  City  39.52963 -119.81380      241445             92283   \n",
       "16  California  City  34.95303 -120.43572      105093             27365   \n",
       "21  California  City  38.00492 -121.80579      110542             33718   \n",
       "22  California  City  38.00492 -121.80579      110542             33718   \n",
       "\n",
       "    Median_Income            Time_Zone Region      Sales_Team  \n",
       "12          53637       America/Denver   West  Joshua Bennett  \n",
       "15          47012  America/Los Angeles   West  Joshua Bennett  \n",
       "16          50433  America/Los Angeles   West  Joshua Bennett  \n",
       "21          64329  America/Los Angeles   West  Joshua Bennett  \n",
       "22          64329  America/Los Angeles   West  Joshua Bennett  "
      ]
     },
     "execution_count": 19,
     "metadata": {},
     "output_type": "execute_result"
    }
   ],
   "source": [
    "west.head()"
   ]
  },
  {
   "cell_type": "code",
   "execution_count": 20,
   "id": "8341b72f",
   "metadata": {},
   "outputs": [
    {
     "data": {
      "text/plain": [
       "(Timestamp('2018-05-31 00:00:00'), Timestamp('2020-12-29 00:00:00'))"
      ]
     },
     "execution_count": 20,
     "metadata": {},
     "output_type": "execute_result"
    }
   ],
   "source": [
    "#Check the number of years for the West sales data\n",
    "west['Order_Date'].min() , west['Order_Date'].max() #We have three years of data"
   ]
  },
  {
   "cell_type": "markdown",
   "id": "b927b3f7",
   "metadata": {},
   "source": [
    "### Wrangling and Subsetting Data"
   ]
  },
  {
   "cell_type": "code",
   "execution_count": 11,
   "id": "a3099562",
   "metadata": {},
   "outputs": [],
   "source": [
    "# This step includes removing columns we do not need, check missing values,duplicate, aggregate sales by date"
   ]
  },
  {
   "cell_type": "code",
   "execution_count": 21,
   "id": "bececaa8",
   "metadata": {},
   "outputs": [],
   "source": [
    "#Create a cols df to remove all the columns in the west df except for Order_Date column\n",
    "cols = ['Order_Number', 'Sales_Channel', 'Warehouse_Code', 'Procured_Date', \n",
    "        'Months_In_Stock', 'Ship_Date', 'Days_To_Process_Order','Delivery_Date', 'Days_In_Transit', \n",
    "        'SalesTeam_ID', 'Customer_ID','Store_ID', \n",
    "        'Product_ID', 'Order_Quantity', 'Discount_Applied','Unit_Price', 'Unit_Cost', 'Discounted_Price_PU', \n",
    "        'Total Cost', 'Total Profit', 'Customer_Names', 'Product_Name','City_Name', 'County', \n",
    "        'State_Code', 'State', 'Type', 'Latitude','Longitude', 'Population', 'Household_Income', \n",
    "        'Median_Income','Time_Zone', 'Region', 'Sales_Team']"
   ]
  },
  {
   "cell_type": "code",
   "execution_count": 22,
   "id": "c46b61a7",
   "metadata": {},
   "outputs": [],
   "source": [
    "west.drop(cols, axis=1, inplace=True) #drop the columns in the cols df"
   ]
  },
  {
   "cell_type": "code",
   "execution_count": 23,
   "id": "6423cd46",
   "metadata": {},
   "outputs": [],
   "source": [
    "west = west.sort_values('Order_Date') #Sort data by date"
   ]
  },
  {
   "cell_type": "code",
   "execution_count": 24,
   "id": "ac367713",
   "metadata": {},
   "outputs": [
    {
     "data": {
      "text/html": [
       "<div>\n",
       "<style scoped>\n",
       "    .dataframe tbody tr th:only-of-type {\n",
       "        vertical-align: middle;\n",
       "    }\n",
       "\n",
       "    .dataframe tbody tr th {\n",
       "        vertical-align: top;\n",
       "    }\n",
       "\n",
       "    .dataframe thead th {\n",
       "        text-align: right;\n",
       "    }\n",
       "</style>\n",
       "<table border=\"1\" class=\"dataframe\">\n",
       "  <thead>\n",
       "    <tr style=\"text-align: right;\">\n",
       "      <th></th>\n",
       "      <th>Order_Date</th>\n",
       "      <th>Total_Sale</th>\n",
       "    </tr>\n",
       "  </thead>\n",
       "  <tbody>\n",
       "    <tr>\n",
       "      <th>3217</th>\n",
       "      <td>2018-05-31</td>\n",
       "      <td>4054.84</td>\n",
       "    </tr>\n",
       "    <tr>\n",
       "      <th>7474</th>\n",
       "      <td>2018-06-01</td>\n",
       "      <td>3545.64</td>\n",
       "    </tr>\n",
       "    <tr>\n",
       "      <th>7629</th>\n",
       "      <td>2018-06-01</td>\n",
       "      <td>1298.46</td>\n",
       "    </tr>\n",
       "    <tr>\n",
       "      <th>3442</th>\n",
       "      <td>2018-06-01</td>\n",
       "      <td>1085.40</td>\n",
       "    </tr>\n",
       "    <tr>\n",
       "      <th>5037</th>\n",
       "      <td>2018-06-02</td>\n",
       "      <td>17032.74</td>\n",
       "    </tr>\n",
       "  </tbody>\n",
       "</table>\n",
       "</div>"
      ],
      "text/plain": [
       "     Order_Date  Total_Sale\n",
       "3217 2018-05-31     4054.84\n",
       "7474 2018-06-01     3545.64\n",
       "7629 2018-06-01     1298.46\n",
       "3442 2018-06-01     1085.40\n",
       "5037 2018-06-02    17032.74"
      ]
     },
     "execution_count": 24,
     "metadata": {},
     "output_type": "execute_result"
    }
   ],
   "source": [
    "#check west df\n",
    "west.head()"
   ]
  },
  {
   "cell_type": "code",
   "execution_count": 30,
   "id": "ac554aa7",
   "metadata": {},
   "outputs": [
    {
     "data": {
      "text/plain": [
       "(887, 2)"
      ]
     },
     "execution_count": 30,
     "metadata": {},
     "output_type": "execute_result"
    }
   ],
   "source": [
    "west.shape #check shape after filtering west region"
   ]
  },
  {
   "cell_type": "code",
   "execution_count": 25,
   "id": "400b4717",
   "metadata": {},
   "outputs": [
    {
     "data": {
      "text/plain": [
       "Index(['Order_Date', 'Total_Sale'], dtype='object')"
      ]
     },
     "execution_count": 25,
     "metadata": {},
     "output_type": "execute_result"
    }
   ],
   "source": [
    "west.columns"
   ]
  },
  {
   "cell_type": "code",
   "execution_count": 29,
   "id": "f6032dc0",
   "metadata": {},
   "outputs": [],
   "source": [
    "#Agreggate Total_Sale by date\n",
    "west = west.groupby('Order_Date')['Total_Sale'].sum().reset_index()"
   ]
  },
  {
   "cell_type": "code",
   "execution_count": 31,
   "id": "91ad36e4",
   "metadata": {},
   "outputs": [
    {
     "data": {
      "text/plain": [
       "(887, 2)"
      ]
     },
     "execution_count": 31,
     "metadata": {},
     "output_type": "execute_result"
    }
   ],
   "source": [
    "west.shape #check shape after agreggating results"
   ]
  },
  {
   "cell_type": "code",
   "execution_count": 32,
   "id": "0bb5ed4d",
   "metadata": {},
   "outputs": [
    {
     "data": {
      "text/plain": [
       "Order_Date    0\n",
       "Total_Sale    0\n",
       "dtype: int64"
      ]
     },
     "execution_count": 32,
     "metadata": {},
     "output_type": "execute_result"
    }
   ],
   "source": [
    "# Check for missing values \n",
    "\n",
    "west.isnull().sum()"
   ]
  },
  {
   "cell_type": "code",
   "execution_count": 33,
   "id": "d35a547d",
   "metadata": {},
   "outputs": [
    {
     "data": {
      "text/plain": [
       "0"
      ]
     },
     "execution_count": 33,
     "metadata": {},
     "output_type": "execute_result"
    }
   ],
   "source": [
    "# Check for duplicates\n",
    "\n",
    "dups = west.duplicated()\n",
    "dups.sum()\n",
    "\n",
    "# No dups!"
   ]
  },
  {
   "cell_type": "code",
   "execution_count": 34,
   "id": "f2609543",
   "metadata": {},
   "outputs": [
    {
     "data": {
      "text/html": [
       "<div>\n",
       "<style scoped>\n",
       "    .dataframe tbody tr th:only-of-type {\n",
       "        vertical-align: middle;\n",
       "    }\n",
       "\n",
       "    .dataframe tbody tr th {\n",
       "        vertical-align: top;\n",
       "    }\n",
       "\n",
       "    .dataframe thead th {\n",
       "        text-align: right;\n",
       "    }\n",
       "</style>\n",
       "<table border=\"1\" class=\"dataframe\">\n",
       "  <thead>\n",
       "    <tr style=\"text-align: right;\">\n",
       "      <th></th>\n",
       "      <th>Total_Sale</th>\n",
       "    </tr>\n",
       "    <tr>\n",
       "      <th>datetime</th>\n",
       "      <th></th>\n",
       "    </tr>\n",
       "  </thead>\n",
       "  <tbody>\n",
       "    <tr>\n",
       "      <th>2018-05-31</th>\n",
       "      <td>4054.8400</td>\n",
       "    </tr>\n",
       "    <tr>\n",
       "      <th>2018-06-01</th>\n",
       "      <td>5929.5000</td>\n",
       "    </tr>\n",
       "    <tr>\n",
       "      <th>2018-06-02</th>\n",
       "      <td>23400.4200</td>\n",
       "    </tr>\n",
       "    <tr>\n",
       "      <th>2018-06-03</th>\n",
       "      <td>50605.2675</td>\n",
       "    </tr>\n",
       "    <tr>\n",
       "      <th>2018-06-04</th>\n",
       "      <td>36486.5250</td>\n",
       "    </tr>\n",
       "  </tbody>\n",
       "</table>\n",
       "</div>"
      ],
      "text/plain": [
       "            Total_Sale\n",
       "datetime              \n",
       "2018-05-31   4054.8400\n",
       "2018-06-01   5929.5000\n",
       "2018-06-02  23400.4200\n",
       "2018-06-03  50605.2675\n",
       "2018-06-04  36486.5250"
      ]
     },
     "execution_count": 34,
     "metadata": {},
     "output_type": "execute_result"
    }
   ],
   "source": [
    "# Set the \"Order_Date\" column as the index\n",
    "\n",
    "from datetime import datetime\n",
    "\n",
    "west['datetime'] = pd.to_datetime(west['Order_Date']) # Create a datetime column from Order Date\n",
    "west = west.set_index('datetime') # Set the datetime as the index of the dataframe.\n",
    "west.drop(['Order_Date'], axis=1, inplace=True) # Drop the \"Ordet_Date\" column.\n",
    "west.head()"
   ]
  },
  {
   "cell_type": "code",
   "execution_count": 36,
   "id": "483407aa",
   "metadata": {},
   "outputs": [],
   "source": [
    "# My data has daily values and this can be hard to work with. Therefore, I will use the averages of daily sales value for that month instead.\n",
    "west_sub = west['Total_Sale'].resample('MS').mean()"
   ]
  },
  {
   "cell_type": "markdown",
   "id": "1f7ce3ec",
   "metadata": {},
   "source": [
    "### Question 3 explain what logic you were following when selecting your data points.\n",
    "- The work above relates to question 3\n",
    "- I used a subset of the data for the West region, as this region had the highest sales. \n",
    "- Because the data has 3 years worth of sales data, I did not subset the data by years. However, because my data contained daily sales, I have to use the average daily sales for each month using the start of each month as the datetime. "
   ]
  },
  {
   "cell_type": "markdown",
   "id": "402ed772",
   "metadata": {},
   "source": [
    "### Question 4 Create a line chart of your data"
   ]
  },
  {
   "cell_type": "code",
   "execution_count": 37,
   "id": "1e6d4147",
   "metadata": {},
   "outputs": [
    {
     "data": {
      "text/plain": [
       "[<matplotlib.lines.Line2D at 0x1a79f786250>]"
      ]
     },
     "execution_count": 37,
     "metadata": {},
     "output_type": "execute_result"
    },
    {
     "data": {
      "image/png": "[encoded data removed]",
      "text/plain": [
       "<Figure size 1500x500 with 1 Axes>"
      ]
     },
     "metadata": {},
     "output_type": "display_data"
    }
   ],
   "source": [
    "# Plot the data using matplotlib.\n",
    "\n",
    "plt.figure(figsize=(15,5), dpi=100)\n",
    "\n",
    "plt.plot(west_sub)"
   ]
  },
  {
   "cell_type": "markdown",
   "id": "ad5ac59b",
   "metadata": {},
   "source": [
    "### Question 5 Decompose the data's components ad analyze the results"
   ]
  },
  {
   "cell_type": "code",
   "execution_count": 38,
   "id": "aa1a805f",
   "metadata": {},
   "outputs": [],
   "source": [
    "# Decompose the time series using an additive model\n",
    "\n",
    "decomposition = sm.tsa.seasonal_decompose(west_sub, model='additive')"
   ]
  },
  {
   "cell_type": "code",
   "execution_count": 39,
   "id": "2c67c79f",
   "metadata": {},
   "outputs": [],
   "source": [
    "from pylab import rcParams # This will define a fixed size for all special charts.\n",
    "\n",
    "rcParams['figure.figsize'] = 18, 7"
   ]
  },
  {
   "cell_type": "code",
   "execution_count": 40,
   "id": "b083fd22",
   "metadata": {},
   "outputs": [
    {
     "data": {
      "image/png": "[encoded data removed]",
      "text/plain": [
       "<Figure size 1296x504 with 4 Axes>"
      ]
     },
     "metadata": {},
     "output_type": "display_data"
    }
   ],
   "source": [
    "# Plot the separate components\n",
    "\n",
    "decomposition.plot()\n",
    "plt.show()"
   ]
  },
  {
   "cell_type": "markdown",
   "id": "6e3b1189",
   "metadata": {},
   "source": [
    "#### Analyzing the results\n",
    "- Trend: The trend in the chart above shows a sharp decline from April of 2019 to July of the same year, and then again increasing. It almost seems that in July sales in the West go down. \n",
    "- Seasonlity: Again we see that sales in the month of April and July are low in the West. This probably means that the company's high season in the West start from the Fall to the Winter. \n",
    "- Noise: Because I had to smooth out the data you see and up and down deviations. In this chart, you can see that there was a period in January of 2019 that sales were very low but really high back in 2020. "
   ]
  },
  {
   "cell_type": "markdown",
   "id": "8178a083",
   "metadata": {},
   "source": [
    "### Question 6 Conduct a Dickey-Fuller test to check for stationarity and interpret the results"
   ]
  },
  {
   "cell_type": "code",
   "execution_count": 45,
   "id": "f279f0bf",
   "metadata": {},
   "outputs": [
    {
     "data": {
      "text/plain": [
       "datetime\n",
       "2018-05-01     4054.840000\n",
       "2018-06-01    31335.098393\n",
       "2018-07-01    28112.083333\n",
       "2018-08-01    24213.499655\n",
       "2018-09-01    36741.249074\n",
       "Freq: MS, Name: Total_Sale, dtype: float64"
      ]
     },
     "execution_count": 45,
     "metadata": {},
     "output_type": "execute_result"
    }
   ],
   "source": [
    "west_sub.head()"
   ]
  },
  {
   "cell_type": "code",
   "execution_count": 46,
   "id": "d8124643",
   "metadata": {},
   "outputs": [
    {
     "name": "stdout",
     "output_type": "stream",
     "text": [
      "Dickey-Fuller Stationarity test:\n",
      "Test Statistic                 -30.005722\n",
      "p-value                          0.000000\n",
      "Number of Lags Used              0.000000\n",
      "Number of Observations Used    886.000000\n",
      "Critical Value (1%)             -3.437752\n",
      "Critical Value (5%)             -2.864808\n",
      "Critical Value (10%)            -2.568510\n",
      "dtype: float64\n"
     ]
    }
   ],
   "source": [
    "from statsmodels.tsa.stattools import adfuller # Import the adfuller() function\n",
    "\n",
    "def dickey_fuller(timeseries): # Define the function\n",
    "    # Perform the Dickey-Fuller test:\n",
    "    print ('Dickey-Fuller Stationarity test:')\n",
    "    test = adfuller(timeseries, autolag='AIC')\n",
    "    result = pd.Series(test[0:4], index=['Test Statistic','p-value','Number of Lags Used','Number of Observations Used'])\n",
    "    for key,value in test[4].items():\n",
    "       result['Critical Value (%s)'%key] = value\n",
    "    print (result)\n",
    "\n",
    "# Apply the test using the function on the time series\n",
    "dickey_fuller(west['Total_Sale'])"
   ]
  },
  {
   "cell_type": "markdown",
   "id": "04229565",
   "metadata": {},
   "source": [
    "#### Based on the dickey_fuller test, the Test statistic is significantly smaller than the critical value (5%). As a result, I can reject the null hypothesis. This means that my data is stationary. "
   ]
  },
  {
   "cell_type": "markdown",
   "id": "42bfeda8",
   "metadata": {},
   "source": [
    "### Question 9 Check your data's autocorrelation"
   ]
  },
  {
   "cell_type": "code",
   "execution_count": 47,
   "id": "5bd9917a",
   "metadata": {},
   "outputs": [
    {
     "data": {
      "image/png": "[encoded data removed]",
      "text/plain": [
       "<Figure size 1296x504 with 1 Axes>"
      ]
     },
     "metadata": {},
     "output_type": "display_data"
    }
   ],
   "source": [
    "# Check out a plot of autocorrelations\n",
    "\n",
    "from statsmodels.graphics.tsaplots import plot_acf, plot_pacf # import the autocorrelation and partial correlation plots\n",
    "\n",
    "plot_acf(west_sub)\n",
    "plt.show()"
   ]
  },
  {
   "cell_type": "markdown",
   "id": "aadeac9e",
   "metadata": {},
   "source": [
    "#### The autocorrelation verifies that the lags are not correlated with each other, as most of the lines are not above the confidence level. "
   ]
  },
  {
   "cell_type": "code",
   "execution_count": null,
   "id": "78565948",
   "metadata": {},
   "outputs": [],
   "source": []
  }
 ],
 "metadata": {
  "kernelspec": {
   "display_name": "Python 3 (ipykernel)",
   "language": "python",
   "name": "python3"
  },
  "language_info": {
   "codemirror_mode": {
    "name": "ipython",
    "version": 3
   },
   "file_extension": ".py",
   "mimetype": "text/x-python",
   "name": "python",
   "nbconvert_exporter": "python",
   "pygments_lexer": "ipython3",
   "version": "3.9.7"
  }
 },
 "nbformat": 4,
 "nbformat_minor": 5
}
